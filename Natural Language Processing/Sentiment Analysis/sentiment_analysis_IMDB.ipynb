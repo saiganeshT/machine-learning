{
  "cells": [
    {
      "cell_type": "code",
      "execution_count": null,
      "metadata": {
        "id": "oTMQY2F8iT5V"
      },
      "outputs": [],
      "source": [
        "# import libraries\n",
        "\n",
        "import numpy as np\n",
        "import pandas as pd\n",
        "\n",
        "from sklearn.model_selection import train_test_split, KFold, cross_val_score, GridSearchCV\n",
        "from keras.wrappers.scikit_learn import KerasClassifier\n",
        "from sklearn.linear_model import LogisticRegression\n",
        "\n",
        "import tensorflow as tf\n",
        "from tensorflow.keras.layers import Input, Embedding, Flatten, Dense, Conv1D, MaxPooling1D, Lambda\n",
        "from tensorflow.keras.preprocessing.sequence  import pad_sequences\n",
        "\n",
        "import warnings\n",
        "warnings.filterwarnings(\"ignore\")"
      ]
    },
    {
      "cell_type": "code",
      "execution_count": null,
      "metadata": {
        "id": "sa6ffGR77Ag-"
      },
      "outputs": [],
      "source": [
        "# set constants\n",
        "\n",
        "# vocabulary size\n",
        "VOCAB_SIZE = 5000\n",
        "\n",
        "# test split size\n",
        "test_size = 0.2\n",
        "\n",
        "# Word Embedding dimension\n",
        "EMBED_DIM = 128"
      ]
    },
    {
      "cell_type": "code",
      "execution_count": null,
      "metadata": {
        "id": "LFCHUuoWwzMb"
      },
      "outputs": [],
      "source": [
        "# function to get the data and do some preprocessing\n",
        "def get_features_labels(vocab_size = VOCAB_SIZE, n_stopwords_to_skip = 0):\n",
        "\n",
        "  # load data set from keras\n",
        "  IMDB_data = tf.keras.datasets.imdb.load_data(\n",
        "                  path=\"imdb.npz\",\n",
        "                  num_words=vocab_size,\n",
        "                  skip_top = n_stopwords_to_skip,\n",
        "                  maxlen=None)\n",
        "\n",
        "  # get the initial data splits from the loaded data\n",
        "  (X_train, y_train), (X_test, y_test) = IMDB_data\n",
        "\n",
        "  # concatenate the splits for custom splitting and other data preprocessing\n",
        "  X = np.concatenate((X_train, X_test), axis = 0)\n",
        "  y = np.concatenate((y_train, y_test), axis = 0)\n",
        "\n",
        "  # check weather the number of features are equal to the number of labels\n",
        "  assert X.shape == y.shape, \"Number of features doesn't match the number of labels\"\n",
        "\n",
        "  # post pad the training data to the maximum review\n",
        "  X_padded = pad_sequences(list(X), padding = 'post')\n",
        "\n",
        "  return (X_padded, y)\n",
        "\n",
        "\n",
        "# function to do the train and test splits\n",
        "def train_test_split_data(X, y, test_size = test_size):\n",
        "  X_train, X_test, y_train, y_test = train_test_split(X, y, test_size = test_size)\n",
        "\n",
        "  return ((X_train, y_train), (X_test, y_test))"
      ]
    },
    {
      "cell_type": "code",
      "execution_count": null,
      "metadata": {
        "id": "oEBIq7nSyXKd",
        "colab": {
          "base_uri": "https://localhost:8080/"
        },
        "outputId": "b75cd0d0-f41b-4d8d-e8ef-954d3a57dfad"
      },
      "outputs": [
        {
          "output_type": "stream",
          "name": "stdout",
          "text": [
            "Downloading data from https://storage.googleapis.com/tensorflow/tf-keras-datasets/imdb.npz\n",
            "17465344/17464789 [==============================] - 0s 0us/step\n",
            "17473536/17464789 [==============================] - 0s 0us/step\n"
          ]
        }
      ],
      "source": [
        "# get X and y \n",
        "X, y = get_features_labels()\n",
        "\n",
        "# Length of each padded word sequence \n",
        "seq_length = X.shape[1]\n",
        "\n",
        "# split the data\n",
        "(X_train, y_train), (X_test, y_test) = train_test_split_data(X, y, test_size = test_size)"
      ]
    },
    {
      "cell_type": "code",
      "execution_count": null,
      "metadata": {
        "id": "6BGJ6DqG8X19"
      },
      "outputs": [],
      "source": [
        "# function to build a logistic regression model and print validation and test accuracy scores\n",
        "\n",
        "def logistic_regression_scores():\n",
        "  \n",
        "  # load Logistic Regression classifier\n",
        "  clf = LogisticRegression(max_iter= 100)\n",
        "  \n",
        "  # kfold split\n",
        "  kfold = KFold(n_splits=5, shuffle=True)\n",
        "\n",
        "  # kfold cross-validation \n",
        "  results = cross_val_score(clf, X_train, y_train, cv=kfold)\n",
        "\n",
        "  print(f\"The average accuracy of Logistic Regression by kfold validation is { results.mean()*100 }% \\nThe std is { results.std() }\")\n",
        "\n",
        "  # fit the logistic regression model to the data\n",
        "  clf.fit(X_train, y_train)\n",
        "  \n",
        "  # Get the accuracy scores on test data by logistic regression\n",
        "  log_test_acc = clf.score(X_test, y_test)\n",
        "\n",
        "  print(f\"The accuracy of Logistic Regression on test data is {log_test_acc*100}% \")\n",
        "\n",
        "\n",
        "# function to build feed forward neural network\n",
        "def build_feed_forward_NN_model(embed_dim = EMBED_DIM, vocab_size = VOCAB_SIZE, seq_length = seq_length):\n",
        "  \n",
        "  input = Input(shape = (seq_length))\n",
        "  x = Embedding(input_dim=vocab_size, output_dim=embed_dim)(input)\n",
        "  x = Flatten()(x)\n",
        "  x = Dense(64, activation = 'relu')(x)\n",
        "  x = Dense(32, activation = 'relu')(x)\n",
        "  x = Dense(16, activation = 'relu')(x)\n",
        "  output = Dense(1, activation = 'sigmoid')(x)\n",
        "\n",
        "  model = tf.keras.models.Model(inputs = input, outputs = output)\n",
        "  \n",
        "  # compile the model\n",
        "  model.compile(loss = 'binary_crossentropy', optimizer = 'adam', metrics = ['accuracy'])\n",
        "  \n",
        "  return model\n",
        "\n",
        "def build_CNN_model(embed_dim = 32, vocab_size = VOCAB_SIZE, seq_length = seq_length):\n",
        "  \n",
        "  input = Input(shape = (seq_length))\n",
        "  x = Embedding(input_dim=vocab_size, output_dim=embed_dim)(input)\n",
        "  x = Flatten()(x)\n",
        "  x = Conv1D(16, 5, activation = 'relu')(tf.expand_dims(x, axis = -1))\n",
        "  x = MaxPooling1D(2, padding = 'same')(x)\n",
        "  x = Conv1D(32, 5, activation = 'relu')(x)\n",
        "  x = MaxPooling1D(2, padding = 'same')(x)\n",
        "  x = Flatten()(x)\n",
        "  output = Dense(1, activation = 'sigmoid')(x)\n",
        "\n",
        "  model = tf.keras.models.Model(inputs = input, outputs = output)\n",
        "  \n",
        "  # compile the model\n",
        "  model.compile(loss = 'binary_crossentropy', optimizer = 'adam', metrics = ['accuracy'])\n",
        "  \n",
        "  return model\n",
        "\n",
        "\n",
        "def NN_scores(build_func, model_type):\n",
        "  \n",
        "  # Wrap keras model with scikit-learn to perform other operations\n",
        "  clf = KerasClassifier(build_fn= build_func, epochs=5, batch_size=128, verbose = 0)\n",
        "\n",
        "  # kfold split\n",
        "  kfold = KFold(n_splits=5, shuffle=True)\n",
        "\n",
        "  # kfold cross-validation \n",
        "  results = cross_val_score(clf, X_train, y_train, cv=kfold)\n",
        "\n",
        "  print(f\"The average accuracy of {model_type} by kfold validation is { results.mean()*100 }% \\nThe std is { results.std() }\")\n",
        "\n",
        "  # fit the logistic regression model to the data\n",
        "  clf.fit(X_train, y_train)\n",
        "  \n",
        "  # Get the accuracy scores on test data by logistic regression\n",
        "  test_acc = clf.score(X_test, y_test)\n",
        "\n",
        "  print(f\"The accuracy of {model_type} on test data is {test_acc*100}% \")"
      ]
    },
    {
      "cell_type": "code",
      "execution_count": null,
      "metadata": {
        "colab": {
          "base_uri": "https://localhost:8080/"
        },
        "id": "fE2Dz9h995d3",
        "outputId": "881b4396-fb2e-4386-f013-597413c82663"
      },
      "outputs": [
        {
          "output_type": "stream",
          "name": "stdout",
          "text": [
            "The average accuracy of Logistic Regression by kfold validation is 50.21% \n",
            "The std is 0.0021365860619221477\n",
            "The accuracy of Logistic Regression on test data is 51.09% \n"
          ]
        }
      ],
      "source": [
        "logistic_regression_scores()"
      ]
    },
    {
      "cell_type": "code",
      "execution_count": null,
      "metadata": {
        "colab": {
          "base_uri": "https://localhost:8080/"
        },
        "id": "o6KPK_9AavQG",
        "outputId": "57bc12e8-03aa-4c56-9508-5779318e95ba"
      },
      "outputs": [
        {
          "output_type": "stream",
          "name": "stdout",
          "text": [
            "Model: \"model\"\n",
            "_________________________________________________________________\n",
            " Layer (type)                Output Shape              Param #   \n",
            "=================================================================\n",
            " input_1 (InputLayer)        [(None, 2494)]            0         \n",
            "                                                                 \n",
            " embedding (Embedding)       (None, 2494, 128)         640000    \n",
            "                                                                 \n",
            " flatten (Flatten)           (None, 319232)            0         \n",
            "                                                                 \n",
            " dense (Dense)               (None, 64)                20430912  \n",
            "                                                                 \n",
            " dense_1 (Dense)             (None, 32)                2080      \n",
            "                                                                 \n",
            " dense_2 (Dense)             (None, 16)                528       \n",
            "                                                                 \n",
            " dense_3 (Dense)             (None, 1)                 17        \n",
            "                                                                 \n",
            "=================================================================\n",
            "Total params: 21,073,537\n",
            "Trainable params: 21,073,537\n",
            "Non-trainable params: 0\n",
            "_________________________________________________________________\n",
            "The average accuracy of feed_forward_neural_network by kfold validation is 87.43499994277954% \n",
            "The std is 0.004562344175878407\n",
            "The accuracy of feed_forward_neural_network on test data is 86.2999975681305% \n"
          ]
        }
      ],
      "source": [
        "# summarize the model\n",
        "build_feed_forward_NN_model().summary()\n",
        "NN_scores(build_feed_forward_NN_model, \"feed_forward_neural_network\")"
      ]
    },
    {
      "cell_type": "code",
      "execution_count": null,
      "metadata": {
        "id": "1zeHqPi7l4T5",
        "colab": {
          "base_uri": "https://localhost:8080/"
        },
        "outputId": "b8c1c640-92fb-470e-8825-62b246c49b04"
      },
      "outputs": [
        {
          "output_type": "stream",
          "name": "stdout",
          "text": [
            "Model: \"model_7\"\n",
            "_________________________________________________________________\n",
            " Layer (type)                Output Shape              Param #   \n",
            "=================================================================\n",
            " input_8 (InputLayer)        [(None, 2494)]            0         \n",
            "                                                                 \n",
            " embedding_7 (Embedding)     (None, 2494, 32)          160000    \n",
            "                                                                 \n",
            " flatten_7 (Flatten)         (None, 79808)             0         \n",
            "                                                                 \n",
            " tf.expand_dims (TFOpLambda)  (None, 79808, 1)         0         \n",
            "                                                                 \n",
            " conv1d (Conv1D)             (None, 79804, 16)         96        \n",
            "                                                                 \n",
            " max_pooling1d (MaxPooling1D  (None, 39902, 16)        0         \n",
            " )                                                               \n",
            "                                                                 \n",
            " conv1d_1 (Conv1D)           (None, 39898, 32)         2592      \n",
            "                                                                 \n",
            " max_pooling1d_1 (MaxPooling  (None, 19949, 32)        0         \n",
            " 1D)                                                             \n",
            "                                                                 \n",
            " flatten_8 (Flatten)         (None, 638368)            0         \n",
            "                                                                 \n",
            " dense_28 (Dense)            (None, 1)                 638369    \n",
            "                                                                 \n",
            "=================================================================\n",
            "Total params: 801,057\n",
            "Trainable params: 801,057\n",
            "Non-trainable params: 0\n",
            "_________________________________________________________________\n",
            "The average accuracy of convolutional_neural_network by kfold validation is 85.27249932289124% \n",
            "The std is 0.04008658938681142\n",
            "The accuracy of convolutional_neural_network on test data is 85.13000011444092% \n"
          ]
        }
      ],
      "source": [
        "# summarize the model\n",
        "build_CNN_model().summary()\n",
        "NN_scores(build_CNN_model, \"convolutional_neural_network\")"
      ]
    },
    {
      "cell_type": "code",
      "source": [
        "# get X and y with stop word filtered\n",
        "X, y = get_features_labels(n_stopwords_to_skip= 50)\n",
        "\n",
        "# split the new data data\n",
        "(X_train, y_train), (X_test, y_test) = train_test_split_data(X, y, test_size = test_size)"
      ],
      "metadata": {
        "id": "0Rr2g7cljrOh"
      },
      "execution_count": null,
      "outputs": []
    },
    {
      "cell_type": "code",
      "source": [
        "# summarize the model\n",
        "build_CNN_model().summary()\n",
        "NN_scores(build_CNN_model, \"convolutional_neural_network\")"
      ],
      "metadata": {
        "colab": {
          "base_uri": "https://localhost:8080/"
        },
        "id": "WQLhjLoXkrIa",
        "outputId": "ad9b2c80-f264-463c-967d-e0b9113a3bca"
      },
      "execution_count": null,
      "outputs": [
        {
          "output_type": "stream",
          "name": "stdout",
          "text": [
            "Model: \"model_14\"\n",
            "_________________________________________________________________\n",
            " Layer (type)                Output Shape              Param #   \n",
            "=================================================================\n",
            " input_15 (InputLayer)       [(None, 2494)]            0         \n",
            "                                                                 \n",
            " embedding_14 (Embedding)    (None, 2494, 32)          160000    \n",
            "                                                                 \n",
            " flatten_21 (Flatten)        (None, 79808)             0         \n",
            "                                                                 \n",
            " tf.expand_dims_7 (TFOpLambd  (None, 79808, 1)         0         \n",
            " a)                                                              \n",
            "                                                                 \n",
            " conv1d_14 (Conv1D)          (None, 79804, 16)         96        \n",
            "                                                                 \n",
            " max_pooling1d_14 (MaxPoolin  (None, 39902, 16)        0         \n",
            " g1D)                                                            \n",
            "                                                                 \n",
            " conv1d_15 (Conv1D)          (None, 39898, 32)         2592      \n",
            "                                                                 \n",
            " max_pooling1d_15 (MaxPoolin  (None, 19949, 32)        0         \n",
            " g1D)                                                            \n",
            "                                                                 \n",
            " flatten_22 (Flatten)        (None, 638368)            0         \n",
            "                                                                 \n",
            " dense_35 (Dense)            (None, 1)                 638369    \n",
            "                                                                 \n",
            "=================================================================\n",
            "Total params: 801,057\n",
            "Trainable params: 801,057\n",
            "Non-trainable params: 0\n",
            "_________________________________________________________________\n",
            "The average accuracy of convolutional_neural_network by kfold validation is 86.09249830245972% \n",
            "The std is 0.014712780900353047\n",
            "The accuracy of convolutional_neural_network on test data is 84.79999899864197% \n"
          ]
        }
      ]
    }
  ],
  "metadata": {
    "accelerator": "GPU",
    "colab": {
      "collapsed_sections": [],
      "provenance": []
    },
    "gpuClass": "standard",
    "kernelspec": {
      "display_name": "Python 3",
      "name": "python3"
    },
    "language_info": {
      "name": "python"
    }
  },
  "nbformat": 4,
  "nbformat_minor": 0
}