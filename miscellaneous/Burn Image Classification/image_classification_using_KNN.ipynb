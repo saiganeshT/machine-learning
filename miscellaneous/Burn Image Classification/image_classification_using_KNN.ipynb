{
  "nbformat": 4,
  "nbformat_minor": 0,
  "metadata": {
    "colab": {
      "provenance": []
    },
    "kernelspec": {
      "name": "python3",
      "display_name": "Python 3"
    },
    "language_info": {
      "name": "python"
    }
  },
  "cells": [
    {
      "cell_type": "code",
      "execution_count": null,
      "metadata": {
        "id": "sGF8CqgcBTTa"
      },
      "outputs": [],
      "source": [
        "# import all the necessary libraries\n",
        "\n",
        "import os\n",
        "import numpy as np\n",
        "from sklearn.neighbors import KNeighborsClassifier\n",
        "from skimage.io import imread\n",
        "from skimage.transform import resize\n",
        "from sklearn.model_selection import train_test_split, GridSearchCV"
      ]
    },
    {
      "cell_type": "code",
      "source": [
        "# function to read images and produce our dataset\n",
        "def load_dataset(file_path):\n",
        "\n",
        "  # create an empty array to hold our dataset\n",
        "\n",
        "  # number of images\n",
        "  n = len(os.listdir(file_path))\n",
        "\n",
        "  X = np.zeros((n, 3))\n",
        "  y = np.ones((n,))* -1\n",
        "\n",
        "  for i, image_name in enumerate(os.listdir(file_path)):\n",
        "    \n",
        "    img = imread(file_path+image_name)\n",
        "    img = resize(img, (250, 250, 3))\n",
        "    img_arry = img.reshape((-1, 3))\n",
        "    img_features = ((np.sum(img_arry, axis = 0))/(250*250))\n",
        "    X[i,:] = img_features\n",
        "    \n",
        "    if image_name.startswith('n'):\n",
        "      y[i] = 0\n",
        "    else:\n",
        "      y[i] = 1\n",
        "\n",
        "  return (X, y)\n"
      ],
      "metadata": {
        "id": "aOBrvtyLCAzm"
      },
      "execution_count": null,
      "outputs": []
    },
    {
      "cell_type": "code",
      "source": [
        "# path to the images\n",
        "file_path = 'burn_images/'\n",
        "\n",
        "# load the dataset\n",
        "X, y = load_dataset(file_path)\n",
        "print(f'The number of samples in the dataset is {X.shape[0]}')\n",
        "\n",
        "# set the parameter space of k valus\n",
        "k_values = {'n_neighbors':[3, 5, 7, 9]}\n",
        "\n",
        "# set the metric for the problem\n",
        "metric = 'precision'\n",
        "\n",
        "# perform parameter grid search\n",
        "search = GridSearchCV(KNeighborsClassifier(), param_grid=k_values, scoring=metric)\n",
        "search.fit(X, y)\n",
        "\n",
        "print(f'The best {metric} score {search.best_score_}')\n",
        "print(f'The best parameters are {search.best_params_}')"
      ],
      "metadata": {
        "colab": {
          "base_uri": "https://localhost:8080/"
        },
        "id": "7jqdh2PIJCYw",
        "outputId": "eea759ab-8c7f-4d36-c970-74be346d9c52"
      },
      "execution_count": null,
      "outputs": [
        {
          "output_type": "stream",
          "name": "stdout",
          "text": [
            "The number of samples in the dataset is 88\n",
            "The best precision score 0.9424836601307189\n",
            "The best parameters are {'n_neighbors': 5}\n"
          ]
        }
      ]
    }
  ]
}