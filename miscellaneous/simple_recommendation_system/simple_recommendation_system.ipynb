{
  "cells": [
    {
      "cell_type": "code",
      "execution_count": null,
      "metadata": {
        "id": "LaLxRvciliVX"
      },
      "outputs": [],
      "source": [
        "from math import sqrt"
      ]
    },
    {
      "cell_type": "code",
      "execution_count": null,
      "metadata": {
        "id": "pd93-6_tliVc",
        "colab": {
          "base_uri": "https://localhost:8080/"
        },
        "outputId": "a1507383-4a79-45f2-c867-55b98132aa94"
      },
      "outputs": [
        {
          "output_type": "stream",
          "name": "stdout",
          "text": [
            "{'Lisa Rose': {'Lady in the Water': 2.5, 'Snakes on a Plane': 3.5, 'Just My Luck': 3.0, 'Superman Returns': 3.5, 'You, Me and Dupree': 2.5, 'The Night Listener': 3.0}, 'Gene Seymour': {'Lady in the Water': 3.0, 'Snakes on a Plane': 3.5, 'Just My Luck': 1.5, 'Superman Returns': 5.0, 'The Night Listener': 3.0, 'You, Me and Dupree': 3.5}, 'Michael Phillips': {'Lady in the Water': 2.5, 'Snakes on a Plane': 3.0, 'Superman Returns': 3.5, 'The Night Listener': 4.0}, 'Claudia Puig': {'Snakes on a Plane': 3.5, 'Just My Luck': 3.0, 'The Night Listener': 4.5, 'Superman Returns': 4.0, 'You, Me and Dupree': 2.5}, 'Mick LaSalle': {'Lady in the Water': 3.0, 'Snakes on a Plane': 4.0, 'Just My Luck': 2.0, 'Superman Returns': 3.0, 'The Night Listener': 3.0, 'You, Me and Dupree': 2.0}, 'Jack Matthews': {'Lady in the Water': 3.0, 'Snakes on a Plane': 4.0, 'The Night Listener': 3.0, 'Superman Returns': 5.0, 'You, Me and Dupree': 3.5}, 'Toby': {'Snakes on a Plane': 4.5, 'You, Me and Dupree': 1.0, 'Superman Returns': 4.0}}\n"
          ]
        }
      ],
      "source": [
        "## Create a dictionary called critics from critics.csv file.\n",
        "## The keys are the names of the critics, and the values are dictionaries containing\n",
        "## containing the movie names as the keys and the ratings as the values\n",
        "critics={}\n",
        "\n",
        "with open('/content/critics.csv', 'r') as f:\n",
        "  for line in f:\n",
        "    #remove new line character\n",
        "    line = line[:-1]\n",
        "    tokens = line.split(\"'\")\n",
        "    #remove empty and other dummy tokens\n",
        "    tokens = [token for token in tokens if token != \",\" and token != \"\"]\n",
        "    #create a dictionary with the person name\n",
        "    critics[tokens[0]] = {}\n",
        "    for i in range(1, len(tokens)):\n",
        "      if i%2 != 0:\n",
        "        # get the movie name\n",
        "        movie = tokens[i]\n",
        "      elif i%2 == 0:\n",
        "        # get the rating and change it into integer\n",
        "        rating = float(tokens[i].split(',')[1])\n",
        "        critics[tokens[0]][movie] = rating\n",
        "\n",
        "\n",
        "print(critics) "
      ]
    },
    {
      "cell_type": "code",
      "execution_count": null,
      "metadata": {
        "id": "_wusYvelliVe"
      },
      "outputs": [],
      "source": [
        "# Return a distance-based similarity score for two individuals\n",
        "# params: critics dictionary, person 1's name, person 2's name \n",
        "def sim_distance(prefs,person1,person2):\n",
        "    # Get the list of shared items (mutually rated)\n",
        "    si=[]\n",
        "    # start code \n",
        "    si = [movie for movie in prefs[person1].keys() if movie in prefs[person2].keys()]  \n",
        "    # end code\n",
        "    # if they have no ratings in common, return 0\n",
        "    if len(si) == 0:\n",
        "        return(0)\n",
        "    # Add up the squares of all the differences of the ratings for the shared items\n",
        "    sum_of_squared_difference = sum([(prefs[person1][movie]-prefs[person2][movie])**2 for movie in si])  ### write code here (use list comprehension)\n",
        "    return(1/(1 + sum_of_squared_difference))"
      ]
    },
    {
      "cell_type": "code",
      "execution_count": null,
      "metadata": {
        "id": "nPCWepXmliVh",
        "colab": {
          "base_uri": "https://localhost:8080/"
        },
        "outputId": "5dcda9b1-46e2-4b74-e639-ae735e2aae74"
      },
      "outputs": [
        {
          "output_type": "stream",
          "name": "stdout",
          "text": [
            "0.11764705882352941\n"
          ]
        }
      ],
      "source": [
        "print(sim_distance(critics,'Toby','Jack Matthews'))"
      ]
    },
    {
      "cell_type": "code",
      "execution_count": null,
      "metadata": {
        "id": "V_Fx3cavliVi"
      },
      "outputs": [],
      "source": [
        "# Returns the Pearson correlation coefficient for two individuals\n",
        "# first parameter is the critics dictionary\n",
        "\n",
        "def sim_pearson(prefs,person1,person2):\n",
        "    # Get the list of mutually rated items\n",
        "    si=[]\n",
        "    si = [movie for movie in prefs[person1].keys() if movie in prefs[person2].keys()] \n",
        "    # if they have no ratings in common, return 0\n",
        "    if len(si) == 0:\n",
        "        return(0)\n",
        "    \n",
        "    #find the number of common elements\n",
        "    n = len(si)\n",
        "    \n",
        "    #Add up all the ratings for each individual\n",
        "    sum1 =  sum([prefs[person1][movie] for movie in si])                           \n",
        "    sum2 =  sum([prefs[person2][movie] for movie in si])                           \n",
        "    \n",
        "    # Sum up the squares of the ratings for each person\n",
        "    sum1Sq =  sum([prefs[person1][movie]**2 for movie in si])                       \n",
        "    sum2Sq =  sum([prefs[person2][movie]**2 for movie in si])                       \n",
        "    \n",
        "    # Sum up the products of the ratings for the two individuals \n",
        "    # rating person 1 x rating person 2 for all the common ratings and add it up\n",
        "    pSum =   sum([prefs[person1][movie]*prefs[person2][movie] for movie in si])                         \n",
        "    \n",
        "    #Calculate Pearson score\n",
        "    numerator = pSum - (sum1*sum2/n)\n",
        "    denominator = sqrt((sum1Sq-pow(sum1,2)/n)*(sum2Sq-pow(sum2,2)/n))\n",
        "    \n",
        "    if denominator == 0:\n",
        "        return(0)\n",
        "    \n",
        "    r = numerator/denominator\n",
        "    return(r)\n",
        "    "
      ]
    },
    {
      "cell_type": "code",
      "execution_count": null,
      "metadata": {
        "id": "evvwuVdhliVk",
        "colab": {
          "base_uri": "https://localhost:8080/"
        },
        "outputId": "4867fcbc-0bb0-412e-edf4-1d3c3c08960b"
      },
      "outputs": [
        {
          "output_type": "stream",
          "name": "stdout",
          "text": [
            "0.66284898035987\n"
          ]
        }
      ],
      "source": [
        "print(sim_pearson(critics,'Toby','Jack Matthews'))"
      ]
    },
    {
      "cell_type": "code",
      "execution_count": null,
      "metadata": {
        "id": "uG51wXTWliVl"
      },
      "outputs": [],
      "source": [
        "# Return the best matches for person from the critics dictionary\n",
        "# Number of results and similarity function are optional parameters\n",
        "def topMatches(prefs,person,n=5,similarity=sim_pearson):\n",
        "    ## find the similarity scores for the person and every other individual\n",
        "    ## store values in a tuple for the person and other individual\n",
        "    scores = [(similarity(prefs, person, person2),person2) for person2 in prefs.keys() if person2 != person]\n",
        "    # sort the list so that the highest scores appear at the top\n",
        "    scores.sort()\n",
        "    scores.reverse()\n",
        "    return(scores[0:n])"
      ]
    },
    {
      "cell_type": "code",
      "execution_count": null,
      "metadata": {
        "id": "HGnonCigliVm",
        "colab": {
          "base_uri": "https://localhost:8080/"
        },
        "outputId": "436f6662-ce91-47f1-b099-fecb2756942b"
      },
      "outputs": [
        {
          "output_type": "stream",
          "name": "stdout",
          "text": [
            "[(0.9912407071619299, 'Lisa Rose'), (0.9244734516419049, 'Mick LaSalle'), (0.8934051474415647, 'Claudia Puig'), (0.66284898035987, 'Jack Matthews'), (0.38124642583151164, 'Gene Seymour')]\n"
          ]
        }
      ],
      "source": [
        "print(topMatches(critics,'Toby'))"
      ]
    },
    {
      "cell_type": "code",
      "execution_count": null,
      "metadata": {
        "id": "zldop6SUliVn"
      },
      "outputs": [],
      "source": [
        "## Get recommendations for a person by using a weighted average of every other user's rankings\n",
        "def getRecommendations(prefs,person,similarity=sim_pearson):\n",
        "    totals = {}\n",
        "    simSums = {}\n",
        "    for other in prefs:\n",
        "        # don't compare one to oneself\n",
        "        if other == person:\n",
        "            continue\n",
        "        sim =  similarity(prefs, person, other)                \n",
        "        \n",
        "        #ignore scores of zero or lower\n",
        "        if sim <= 0:\n",
        "            continue\n",
        "        for item in prefs[other]:\n",
        "            # only score movies one haven't seen yet\n",
        "            if item not in prefs[person] or prefs[person][item]==0:\n",
        "                #Similariy * Score\n",
        "                totals.setdefault(item,0)\n",
        "                totals[item]+= sim*prefs[other][item]\n",
        "                #Sum of similarities\n",
        "                simSums.setdefault(item,0)\n",
        "                # add similarities\n",
        "                simSums[item]+= sim\n",
        "        #create a normalized list\n",
        "        rankings = [(total/simSums[item],item) for item,total in totals.items()]\n",
        "        # return the sorted list\n",
        "        rankings.sort()\n",
        "        rankings.reverse()\n",
        "    return(rankings)"
      ]
    },
    {
      "cell_type": "code",
      "execution_count": null,
      "metadata": {
        "id": "tE55fTQJliVq",
        "colab": {
          "base_uri": "https://localhost:8080/"
        },
        "outputId": "48604780-016d-4ccf-8879-cedf39f70e13"
      },
      "outputs": [
        {
          "output_type": "stream",
          "name": "stdout",
          "text": [
            "[(3.3477895267131017, 'The Night Listener'), (2.8325499182641614, 'Lady in the Water'), (2.530980703765565, 'Just My Luck')]\n"
          ]
        }
      ],
      "source": [
        "print(getRecommendations(critics,'Toby'))"
      ]
    },
    {
      "cell_type": "code",
      "execution_count": null,
      "metadata": {
        "id": "Sw-uXR1PliVr",
        "colab": {
          "base_uri": "https://localhost:8080/"
        },
        "outputId": "33dd6317-2709-4a5d-99da-d5b1277a60c5"
      },
      "outputs": [
        {
          "output_type": "stream",
          "name": "stdout",
          "text": [
            "[(2.150559004463025, 'Just My Luck')]\n"
          ]
        }
      ],
      "source": [
        "print(getRecommendations(critics,'Jack Matthews'))"
      ]
    }
  ],
  "metadata": {
    "kernelspec": {
      "display_name": "Python 3",
      "language": "python",
      "name": "python3"
    },
    "language_info": {
      "codemirror_mode": {
        "name": "ipython",
        "version": 3
      },
      "file_extension": ".py",
      "mimetype": "text/x-python",
      "name": "python",
      "nbconvert_exporter": "python",
      "pygments_lexer": "ipython3",
      "version": "3.6.8"
    },
    "colab": {
      "provenance": [],
      "collapsed_sections": []
    }
  },
  "nbformat": 4,
  "nbformat_minor": 0
}